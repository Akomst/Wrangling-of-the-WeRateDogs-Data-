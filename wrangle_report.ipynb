{
 "cells": [
  {
   "cell_type": "markdown",
   "metadata": {},
   "source": [
    "## Reporting: wragle_report\n",
    "* Create a **300-600 word written report** called \"wrangle_report.pdf\" or \"wrangle_report.html\" that briefly describes your wrangling efforts. This is to be framed as an internal document."
   ]
  },
  {
   "cell_type": "markdown",
   "metadata": {},
   "source": [
    "## Wrangling Twitter archive posts of @WeRateDogs to gain insights"
   ]
  },
  {
   "cell_type": "markdown",
   "metadata": {},
   "source": [
    "#### Data Gathering\n",
    "Wrangling starts with the collection of data, and in this project, three sets of data were collected from different sources.\n",
    " The \"WeRateDogs Twitter archive\" and \"Tweet Image Prediction\" datasets were downloaded to the workspace manually and  using request library respectively. Both datasets were provided by Udacity. \n",
    " Additional data was collected as \"tweet_json.txt\" using Tweepy library to request Twitter posts with user ids present \"Tweet Image Prediction\". From this data, a csv file, that includes user_id, favorite_count and retweet_count, was created.\n",
    "\n",
    "#### Assessing Data\n",
    "From these datasets, 8 quality and tidiness issues that requires cleaning were identified. Much of these issues are associated with the archive data and these includes: incorrect values for some observations, wrong datatypes, sparse values in some features and tweets without images in the prediction data.\n",
    "\n",
    "#### Cleaning Data\n",
    "The identified tidiness and quality issues were cleaned under this section. \n",
    "\n",
    "Finally the cleaned datasets were merged to for a master dataset to be used for insights \n",
    "\n",
    "\n",
    "\n",
    "\n",
    " "
   ]
  },
  {
   "cell_type": "code",
   "execution_count": null,
   "metadata": {},
   "outputs": [],
   "source": []
  }
 ],
 "metadata": {
  "kernelspec": {
   "display_name": "Python 3",
   "language": "python",
   "name": "python3"
  },
  "language_info": {
   "codemirror_mode": {
    "name": "ipython",
    "version": 3
   },
   "file_extension": ".py",
   "mimetype": "text/x-python",
   "name": "python",
   "nbconvert_exporter": "python",
   "pygments_lexer": "ipython3",
   "version": "3.8.3"
  }
 },
 "nbformat": 4,
 "nbformat_minor": 2
}
