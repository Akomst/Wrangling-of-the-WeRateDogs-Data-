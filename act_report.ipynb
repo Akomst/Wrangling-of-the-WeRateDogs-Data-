{
 "cells": [
  {
   "cell_type": "markdown",
   "metadata": {},
   "source": [
    "## Report: act_report\n",
    "* Create a **250-word-minimum written report** called \"act_report.pdf\" or \"act_report.html\" that communicates the insights and displays the visualization(s) produced from your wrangled data. This is to be framed as an external document, like a blog post or magazine article, for example."
   ]
  },
  {
   "cell_type": "markdown",
   "metadata": {},
   "source": [
    "## Insights into @WeRateDogs Twitter archive posts."
   ]
  },
  {
   "cell_type": "markdown",
   "metadata": {},
   "source": [
    "### Insights\n",
    "After Wrangling, the master csv file was analysed for three (3) basic insights as follows:\n",
    "\n",
    "1. What is the average rating that dogs gets?\n",
    "The indication from the chart and statistics of the rating_numerator suggest that 11/10 is the mean rating for the data. However, most dogs received higher ratings as indicated by the mode of the bar. Indeed, they are good dogs.\n",
    "\n",
    "2. Is there correlation between any pair of the numerical variables in the dataset?\n",
    "The numerical features showed moderate to strong correlation. Apparently, there is a strong tendency that a post will gain retweets in the proportion of its likes. Similarly pattern may follow for the rating and the number of likes that a post received. It may be implied that a higher rating will likewise gain a higher likes, such pattern may not hold for the retweet that the same post gets.\n",
    "\n",
    "3. Is any dog type or breed more likely to have a higher retweets, favorite_count.\n",
    "Among its peers, the Saluki dog breed is apparently the most liked or favoured. On average, the breed has the most ratings and likes. Though, the most common of the dogs posted and rated is the Golden_Retriever, it didn't enjoy similar ratings and likes as the Saluki."
   ]
  },
  {
   "cell_type": "code",
   "execution_count": null,
   "metadata": {},
   "outputs": [],
   "source": []
  }
 ],
 "metadata": {
  "kernelspec": {
   "display_name": "Python 3",
   "language": "python",
   "name": "python3"
  },
  "language_info": {
   "codemirror_mode": {
    "name": "ipython",
    "version": 3
   },
   "file_extension": ".py",
   "mimetype": "text/x-python",
   "name": "python",
   "nbconvert_exporter": "python",
   "pygments_lexer": "ipython3",
   "version": "3.8.3"
  }
 },
 "nbformat": 4,
 "nbformat_minor": 2
}
